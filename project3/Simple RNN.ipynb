{
 "cells": [
  {
   "cell_type": "markdown",
   "metadata": {},
   "source": [
    "# Project 3: Implementing a Simple Recurrent Neural Network (RNN)\n",
    "\n",
    "## Introduction\n",
    "\n",
    "In this project, you will design, implement, and evaluate a simple Recurrent Neural Network (RNN) from scratch. This will involve building the entire pipeline, from data preprocessing to model training and evaluation.\n",
    "\n",
    "## Objectives\n",
    "\n",
    "1. Set up TensorFlow or PyTorch environments. You are free to choose your preferred DL platform.\n",
    "2. Use GPU for training.\n",
    "3. Create a data loader and implement data preprocessing where needed.\n",
    "4. Design a Convolutional Neural Network.\n",
    "5. Train and evaluate your model. Make sure to clearly show loss and accuracy values. Include visualizations too.\n",
    "6. Answer assessment questions.\n",
    "\n",
    "## Dataset\n",
    "\n",
    "You are free to choose any dataset for this project! Kaggle would be a good source to look for datasets. Below are some examples:\n",
    "- Daily Minimum Temperatures in Melbourne: This dataset contains the daily minimum temperatures in Melbourne, Australia, from 1981 to 1990.\n",
    "- Daily Bitcoin Prices: This dataset contains historical daily prices of Bitcoin, which can be used for time series forecasting projects.\n",
    "- Text8 Dataset: This dataset consists of the first 100 million characters from Wikipedia. It's great for text generation or language modeling tasks.\n",
    "- IMDB Movie Reviews: This dataset contains 50,000 movie reviews for sentiment analysis, split evenly into 25,000 training and 25,000 test sets.\n",
    "- Jena Climate Dataset: This dataset records various weather attributes (temperature, pressure, humidity, etc.) every 10 minutes, making it ideal for time series analysis.\n",
    "- Earthquake Aftershocks: This dataset contains seismic data, suitable for predicting aftershocks following major earthquakes.\n"
   ]
  },
  {
   "cell_type": "code",
   "execution_count": 1,
   "metadata": {},
   "outputs": [],
   "source": [
    "import torch\n",
    "import torch.nn as nn\n",
    "import torch.optim as optim\n",
    "from torch.utils.data import DataLoader, Dataset\n",
    "from torch.nn.utils.rnn import pad_sequence\n",
    "import pandas as pd\n",
    "from sklearn.model_selection import train_test_split\n",
    "from sklearn.metrics import accuracy_score\n",
    "import re\n",
    "from collections import Counter"
   ]
  },
  {
   "cell_type": "code",
   "execution_count": 2,
   "metadata": {},
   "outputs": [],
   "source": [
    "# Load and preprocess the dataset\n",
    "def load_data(file_path):\n",
    "    df = pd.read_csv(file_path)\n",
    "    return df['review'].tolist(), df['sentiment'].tolist()"
   ]
  },
  {
   "cell_type": "code",
   "execution_count": 3,
   "metadata": {},
   "outputs": [],
   "source": [
    "def preprocess_text(text):\n",
    "    text = re.sub(r'<br /><br />', ' ', text)  # Remove HTML tags\n",
    "    text = re.sub(r'[^\\w\\s]', '', text)        # Remove punctuation\n",
    "    return text.lower().split()"
   ]
  },
  {
   "cell_type": "code",
   "execution_count": 13,
   "metadata": {},
   "outputs": [
    {
     "name": "stdout",
     "output_type": "stream",
     "text": [
      "CUDA is available. Training on GPU.\n"
     ]
    }
   ],
   "source": [
    "# Define the custom dataset for movie reviews\n",
    "class MovieReviewDataset(Dataset):\n",
    "    def __init__(self, reviews, sentiments):\n",
    "        # Preprocess reviews and convert sentiments into binary format\n",
    "        self.reviews = [preprocess_text(review) for review in reviews]\n",
    "        self.sentiments = [1 if sentiment == 'positive' else 0 for sentiment in sentiments]\n",
    "\n",
    "    #building vocabulary from reviews\n",
    "        word_counts = Counter(word for review in self.reviews for word in review)\n",
    "        self.vocab = {word: i+1 for i, word in enumerate(word_counts)}  # start indexing from 1\n",
    "\n",
    "        # Map words in reviews to integers based on the vocabulary\n",
    "        self.encoded_reviews = [[self.vocab[word] for word in review if word in self.vocab] for review in self.reviews]\n",
    "\n",
    "    def __len__(self):\n",
    "        # Return the total number of reviews\n",
    "        return len(self.reviews)\n",
    "\n",
    "    def __getitem__(self, idx):\n",
    "        # Fetch the processed review and its sentiment by index\n",
    "        return torch.tensor(self.encoded_reviews[idx], dtype=torch.long), self.sentiments[idx]\n",
    "\n",
    "def collate_fn(batch):\n",
    "    # Helper function to pad the reviews so they all have the same length\n",
    "    reviews, sentiments = zip(*batch)\n",
    "    reviews = pad_sequence(reviews, batch_first=True, padding_value=0)\n",
    "    return reviews, torch.tensor(sentiments, dtype=torch.float32)\n",
    "\n",
    "# Define the simple RNN model\n",
    "class SimpleRNN(nn.Module):\n",
    "    def __init__(self, vocab_size, embedding_dim, hidden_dim, output_dim):\n",
    "        super(SimpleRNN, self).__init__()\n",
    "        # Embedding layer to transform indices into dense vectors\n",
    "        self.embedding = nn.Embedding(vocab_size, embedding_dim)\n",
    "        # Recurrent layer to process sequences of embeddings\n",
    "        self.rnn = nn.RNN(embedding_dim, hidden_dim, batch_first=True)\n",
    "        # Output layer to predict the sentiment from the last RNN output\n",
    "        self.fc = nn.Linear(hidden_dim, output_dim)\n",
    "\n",
    "    def forward(self, text):\n",
    "        # Define the forward pass through the network\n",
    "        embedded = self.embedding(text)\n",
    "        output, hidden = self.rnn(embedded)\n",
    "        return torch.sigmoid(self.fc(hidden[-1]))\n",
    "\n",
    "# Check and use GPU if available, else use CPU\n",
    "device = torch.device('cuda' if torch.cuda.is_available() else 'cpu')\n",
    "if device.type == 'cuda':\n",
    "    print(\"CUDA is available. Training on GPU.\")\n",
    "else:\n",
    "    print(\"CUDA not available. Training on CPU.\")\n",
    "\n",
    "# Load data and prepare datasets and loaders\n",
    "reviews, sentiments = load_data('IMDB_Dataset.csv')\n",
    "dataset = MovieReviewDataset(reviews, sentiments)\n",
    "vocab_size = len(dataset.vocab) + 1  # Adjust vocabulary size for embedding layer\n",
    "\n",
    "# Split dataset into training and testing sets\n",
    "train_dataset, test_dataset = train_test_split(dataset, test_size=0.25, random_state=42)\n",
    "train_loader = DataLoader(train_dataset, batch_size=64, shuffle=True, collate_fn=collate_fn)\n",
    "test_loader = DataLoader(test_dataset, batch_size=64, shuffle=False, collate_fn=collate_fn)\n",
    "\n",
    "# Initialize the model, optimizer, and loss function\n",
    "model = SimpleRNN(vocab_size, embedding_dim=100, hidden_dim=128, output_dim=1).to(device)\n",
    "optimizer = optim.Adam(model.parameters(), lr=0.001)\n",
    "criterion = nn.BCELoss()\n",
    "\n",
    "# Explanation:\n",
    "# We use DataLoader and Dataset to handle batches of data for training, which helps in efficient learning.\n",
    "# The RNN model uses an embedding layer to handle the vast vocabulary efficiently by converting words into meaningful vectors.\n",
    "# Using 'cuda' allows the model to train much faster if a GPU is available.\n",
    "# BCELoss is used as it's suitable for binary classification tasks."
   ]
  },
  {
   "cell_type": "code",
   "execution_count": 9,
   "metadata": {},
   "outputs": [
    {
     "name": "stdout",
     "output_type": "stream",
     "text": [
      "Epoch 1, Loss: 0.6890392899513245, Accuracy: 0.49368\n",
      "Epoch 2, Loss: 0.6810483932495117, Accuracy: 0.50816\n",
      "Epoch 3, Loss: 0.6900578141212463, Accuracy: 0.49392\n",
      "Epoch 4, Loss: 0.6945576071739197, Accuracy: 0.50832\n",
      "Epoch 5, Loss: 0.6904729008674622, Accuracy: 0.49448\n",
      "Epoch 6, Loss: 0.6860697269439697, Accuracy: 0.49384\n",
      "Epoch 7, Loss: 0.6805813312530518, Accuracy: 0.49448\n",
      "Epoch 8, Loss: 0.6860800385475159, Accuracy: 0.49488\n"
     ]
    }
   ],
   "source": [
    "import matplotlib.pyplot as plt\n",
    "from sklearn.metrics import confusion_matrix\n",
    "import seaborn as sns\n",
    "\n",
    "accuracies = []\n",
    "losses = []\n",
    "\n",
    "for epoch in range(8):\n",
    "    model.train()\n",
    "    for texts, labels in train_loader:\n",
    "        texts, labels = texts.to(device), labels.to(device)\n",
    "        optimizer.zero_grad()\n",
    "        outputs = model(texts).squeeze(1)\n",
    "        loss = criterion(outputs, labels)\n",
    "        loss.backward()\n",
    "        optimizer.step()\n",
    "\n",
    "    model.eval()\n",
    "    all_preds = []\n",
    "    all_labels = []\n",
    "    with torch.no_grad():\n",
    "        for texts, labels in test_loader:\n",
    "            texts, labels = texts.to(device), labels.to(device)\n",
    "            outputs = model(texts).squeeze(1)\n",
    "            predictions = (outputs > 0.5).int()\n",
    "            all_preds.extend(predictions.tolist())\n",
    "            all_labels.extend(labels.tolist())\n",
    "\n",
    "    accuracy = accuracy_score(all_labels, all_preds)\n",
    "    accuracies.append(accuracy)\n",
    "    losses.append(loss.item())\n",
    "    print(f'Epoch {epoch + 1}, Loss: {loss.item()}, Accuracy: {accuracy}')\n"
   ]
  },
  {
   "cell_type": "code",
   "execution_count": 7,
   "metadata": {},
   "outputs": [
    {
     "data": {
      "image/png": "[encoded data removed]",
      "text/plain": [
       "<Figure size 720x360 with 1 Axes>"
      ]
     },
     "metadata": {
      "needs_background": "light"
     },
     "output_type": "display_data"
    },
    {
     "data": {
      "image/png": "[encoded data removed]",
      "text/plain": [
       "<Figure size 432x432 with 2 Axes>"
      ]
     },
     "metadata": {
      "needs_background": "light"
     },
     "output_type": "display_data"
    }
   ],
   "source": [
    "# Plotting accuracy\n",
    "plt.figure(figsize=(10, 5))\n",
    "plt.plot(range(1, len(accuracies) + 1), accuracies, marker='o')\n",
    "plt.title('Model Accuracy Over Epochs')\n",
    "plt.xlabel('Epochs')\n",
    "plt.ylabel('Accuracy')\n",
    "plt.grid(True)\n",
    "plt.show()\n",
    "\n",
    "# Confusion matrix\n",
    "cm = confusion_matrix(all_labels, all_preds)\n",
    "plt.figure(figsize=(6, 6))\n",
    "sns.heatmap(cm, annot=True, fmt='d', cmap='Blues', xticklabels=['Negative', 'Positive'], yticklabels=['Negative', 'Positive'])\n",
    "plt.xlabel('Predicted')\n",
    "plt.ylabel('Actual')\n",
    "plt.title('Confusion Matrix')\n",
    "plt.show()\n"
   ]
  },
  {
   "cell_type": "markdown",
   "metadata": {},
   "source": [
    "### Questions\n",
    "Here are simplified answers to the questions provided:\n",
    "\n",
    "1. **What is a Recurrent Neural Network (RNN)?**\n",
    "   An RNN is a type of neural network that is good at processing sequences of data (like sentences or time series). Unlike regular neural networks, RNNs can remember previous inputs using loops within them, which helps in tasks where context is important.\n",
    "\n",
    "2. **Explain the purpose of the recurrent connection in an RNN.**\n",
    "   The recurrent connection in an RNN helps it remember past information. This is useful for tasks where you need to understand sequences of data, as it allows the network to keep track of what has happened so far in the sequence.\n",
    "\n",
    "3. **What are vanishing and exploding gradients, and how do they affect the training of RNNs?**\n",
    "   Vanishing gradients occur when the values used to update network weights become very small, making learning slow or stopping it entirely. Exploding gradients happen when these values become too large, causing erratic learning. Both problems make training RNNs difficult, especially when dealing with long sequences.\n",
    "\n",
    "4. **Describe the Long Short-Term Memory (LSTM) network and its key components.**\n",
    "   LSTMs are a type of RNN designed to avoid the vanishing gradient problem and better remember information over long sequences. They have special structures called gates that regulate the flow of information, deciding what to retain and what to discard.\n",
    "\n",
    "5. **What is the purpose of the GRU (Gated Recurrent Unit) in RNNs?**\n",
    "   GRUs are similar to LSTMs as they also use gates to manage information flow and are generally simpler and faster to train. They combine some of the gates found in LSTMs, which simplifies the model without sacrificing too much performance.\n",
    "\n",
    "6. **Explain the role of the hidden state in an RNN.**\n",
    "   The hidden state in an RNN acts like its memory. It gets updated every time new data comes in, based on the new data and the previous hidden state. This update helps the RNN keep track of what it has seen so far.\n",
    "\n",
    "7. **What are some common evaluation metrics used to assess the performance of an RNN?**\n",
    "   Common metrics include accuracy, Mean Squared Error (MSE) for predicting continuous values, and Cross-Entropy Loss for classification tasks. These help understand how well the RNN is performing its task.\n",
    "\n",
    "8. **How does data preprocessing impact the performance of RNNs?**\n",
    "   Proper data preprocessing can significantly improve RNN performance. For text, this might mean converting all text to lowercase, removing punctuation, and converting words to numbers. For time series, this could involve normalizing the data so that all values are on a similar scale.\n",
    "\n",
    "9. **What is sequence-to-sequence learning in the context of RNNs?**\n",
    "   Sequence-to-sequence learning involves training an RNN to convert a sequence from one domain (like English text) to another (like French text), often used in tasks like translation or speech recognition.\n",
    "\n",
    "10. **How can RNNs be used for anomaly detection in time series data?**\n",
    "    RNNs can learn what normal patterns look like in time series data, and then identify when something unusual happens. This is done by comparing the RNN's predictions based on past data to actual new data and seeing if there's a big difference, which might indicate an anomaly.\n"
   ]
  },
  {
   "cell_type": "markdown",
   "metadata": {},
   "source": [
    "---\n",
    "### Submission\n",
    "Submit a link to your completed Jupyter Notebook (e.g., on GitHub (private) or Google Colab) with all the cells executed, and answers to the assessment questions included at the end of the notebook."
   ]
  }
 ],
 "metadata": {
  "kernelspec": {
   "display_name": "Python 3",
   "language": "python",
   "name": "python3"
  },
  "language_info": {
   "codemirror_mode": {
    "name": "ipython",
    "version": 3
   },
   "file_extension": ".py",
   "mimetype": "text/x-python",
   "name": "python",
   "nbconvert_exporter": "python",
   "pygments_lexer": "ipython3",
   "version": "3.8.10"
  }
 },
 "nbformat": 4,
 "nbformat_minor": 2
}
